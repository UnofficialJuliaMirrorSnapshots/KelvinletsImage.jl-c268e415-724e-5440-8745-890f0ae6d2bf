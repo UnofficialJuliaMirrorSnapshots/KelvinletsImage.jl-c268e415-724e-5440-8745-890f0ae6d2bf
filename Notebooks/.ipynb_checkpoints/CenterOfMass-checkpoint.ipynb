{
 "cells": [
  {
   "cell_type": "code",
   "execution_count": 1,
   "metadata": {},
   "outputs": [
    {
     "name": "stdout",
     "output_type": "stream",
     "text": [
      "\u001b[32m\u001b[1m  Updating\u001b[22m\u001b[39m registry at `~/.julia/registries/General`\n",
      "\u001b[32m\u001b[1m  Updating\u001b[22m\u001b[39m git-repo `https://github.com/JuliaRegistries/General.git`\n",
      "\u001b[?25l\u001b[2K\u001b[?25h\u001b[32m\u001b[1m Resolving\u001b[22m\u001b[39m package versions...\n",
      "\u001b[32m\u001b[1m  Updating\u001b[22m\u001b[39m `~/Desktop/Kelvinlets/KelvinletsImage.jl/Project.toml`\n",
      "\u001b[90m [no changes]\u001b[39m\n",
      "\u001b[32m\u001b[1m  Updating\u001b[22m\u001b[39m `~/Desktop/Kelvinlets/KelvinletsImage.jl/Manifest.toml`\n",
      "\u001b[90m [no changes]\u001b[39m\n",
      "\u001b[32m\u001b[1m Resolving\u001b[22m\u001b[39m package versions...\n",
      "\u001b[32m\u001b[1m  Updating\u001b[22m\u001b[39m `~/Desktop/Kelvinlets/KelvinletsImage.jl/Project.toml`\n",
      "\u001b[90m [no changes]\u001b[39m\n",
      "\u001b[32m\u001b[1m  Updating\u001b[22m\u001b[39m `~/Desktop/Kelvinlets/KelvinletsImage.jl/Manifest.toml`\n",
      "\u001b[90m [no changes]\u001b[39m\n",
      "\u001b[32m\u001b[1m Resolving\u001b[22m\u001b[39m package versions...\n",
      "\u001b[32m\u001b[1m  Updating\u001b[22m\u001b[39m `~/Desktop/Kelvinlets/KelvinletsImage.jl/Project.toml`\n",
      "\u001b[90m [no changes]\u001b[39m\n",
      "\u001b[32m\u001b[1m  Updating\u001b[22m\u001b[39m `~/Desktop/Kelvinlets/KelvinletsImage.jl/Manifest.toml`\n",
      "\u001b[90m [no changes]\u001b[39m\n",
      "\u001b[32m\u001b[1m Resolving\u001b[22m\u001b[39m package versions...\n",
      "\u001b[32m\u001b[1m  Updating\u001b[22m\u001b[39m `~/Desktop/Kelvinlets/KelvinletsImage.jl/Project.toml`\n",
      "\u001b[90m [no changes]\u001b[39m\n",
      "\u001b[32m\u001b[1m  Updating\u001b[22m\u001b[39m `~/Desktop/Kelvinlets/KelvinletsImage.jl/Manifest.toml`\n",
      "\u001b[90m [no changes]\u001b[39m\n"
     ]
    }
   ],
   "source": [
    "using Pkg\n",
    "Pkg.add(\"Images\")\n",
    "Pkg.add(\"ImageView\")\n",
    "Pkg.add(\"LinearAlgebra\")\n",
    "Pkg.add(\"Plots\")\n",
    "using Images, ImageView, LinearAlgebra, Plots"
   ]
  },
  {
   "cell_type": "code",
   "execution_count": 2,
   "metadata": {},
   "outputs": [
    {
     "data": {
      "text/plain": [
       "centerOfMassAnimation (generic function with 1 method)"
      ]
     },
     "execution_count": 2,
     "metadata": {},
     "output_type": "execute_result"
    }
   ],
   "source": [
    "function centerOfMassAnimation(X, Y, points)\n",
    "    \n",
    "    minX, maxX = points[:, 2]\n",
    "    minY, maxY = points[:, 1]\n",
    "    \n",
    "    frames = X * Y\n",
    "    video = fill(RGB{Float64}(0., 0., 0.), Y, X, frames)\n",
    "    \n",
    "    for i=1:Y\n",
    "        for j=1:X\n",
    "            frame = j+X*(i-1)\n",
    "            video[minY, minX, frame] = RGB{Float64}(1., 1., 0.)\n",
    "            video[minY, maxX, frame] = RGB{Float64}(1., 1., 0.)\n",
    "            video[maxY, minX, frame] = RGB{Float64}(1., 1., 0.)\n",
    "            video[maxY, maxX, frame] = RGB{Float64}(1., 1., 0.)\n",
    "            \n",
    "            video[i, j, frame] = RGB{Float64}(1., 0., 0.)\n",
    "            \n",
    "            d1 = norm([i, j] - [minY, minX]) + 1\n",
    "            d2 = norm([i, j] - [minY, maxX]) + 1\n",
    "            d3 = norm([i, j] - [maxY, minX]) + 1\n",
    "            d4 = norm([i, j] - [maxY, maxX]) + 1\n",
    "\n",
    "            newReference = ((1/d1) * [minY, minX] + \n",
    "                            (1/d2) * [minY, maxX] + \n",
    "                            (1/d3) * [maxY, minX] + \n",
    "                            (1/d4) * [maxY, maxX]\n",
    "                            ) / \n",
    "                            ((1/d1) + (1/d2) + (1/d3) + (1/d4))\n",
    "            \n",
    "            newReference = [round(Int, newReference[1]), round(Int, newReference[2])]\n",
    "            \n",
    "            video[newReference[1], newReference[2], frame] = RGB{Float64}(1., 1., 1.)\n",
    "        end\n",
    "    end\n",
    "    \n",
    "    return video\n",
    "end"
   ]
  },
  {
   "cell_type": "code",
   "execution_count": 10,
   "metadata": {},
   "outputs": [],
   "source": [
    "vid = centerOfMassAnimation(50, 50, [15 15 ; 35 35])\n",
    "save(\"centerOfMass50X50.gif\", vid)"
   ]
  }
 ],
 "metadata": {
  "kernelspec": {
   "display_name": "Julia 1.0.3",
   "language": "julia",
   "name": "julia-1.0"
  },
  "language_info": {
   "file_extension": ".jl",
   "mimetype": "application/julia",
   "name": "julia",
   "version": "1.0.3"
  }
 },
 "nbformat": 4,
 "nbformat_minor": 2
}
